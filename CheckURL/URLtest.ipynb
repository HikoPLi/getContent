{
 "cells": [
  {
   "cell_type": "code",
   "execution_count": 6,
   "metadata": {},
   "outputs": [
    {
     "name": "stdout",
     "output_type": "stream",
     "text": [
      "IT Officer/Assistant IT Officer (Full-time/Fractional) in the Quality Assurance and Enhancement Unit\n",
      "Term / Part-time (Daytime) Assistant Lecturer\n",
      "Senior Solution Lead\n"
     ]
    }
   ],
   "source": [
    "from urllib.error import HTTPError\n",
    "import content\n",
    "import request\n",
    "\n",
    "\n",
    "def BASEURL():\n",
    "    BASEURL = \"https://hk.jobsdb.com/hk/search-jobs/python/118\"\n",
    "    return BASEURL\n",
    "\n",
    "\n",
    "def URL(i):\n",
    "    URL = \"https://hk.jobsdb.com/hk/search-jobs/python/\" + str(i)\n",
    "    return URL\n",
    "\n",
    "\n",
    "def checkURL(URL):\n",
    "    try:\n",
    "        # req = urllib.request.Request(URL)\n",
    "        # resp = urllib.request.urlopen(req)\n",
    "        # data = resp.read().decode('html5lib')\n",
    "        # print(data)\n",
    "        soup = request.request(URL)\n",
    "        # print(soup)\n",
    "        return True\n",
    "\n",
    "    except HTTPError as e:\n",
    "        print(\"Error code: \", e.code)\n",
    "        print(\"Error message: \", e.reason)\n",
    "        return False\n",
    "\n",
    "\n",
    "checkURL(str(BASEURL()))\n",
    "# checkURL(URL(1))\n",
    "content.content(str(BASEURL()))\n"
   ]
  }
 ],
 "metadata": {
  "kernelspec": {
   "display_name": "study_env",
   "language": "python",
   "name": "python3"
  },
  "language_info": {
   "codemirror_mode": {
    "name": "ipython",
    "version": 3
   },
   "file_extension": ".py",
   "mimetype": "text/x-python",
   "name": "python",
   "nbconvert_exporter": "python",
   "pygments_lexer": "ipython3",
   "version": "3.8.10"
  },
  "orig_nbformat": 4,
  "vscode": {
   "interpreter": {
    "hash": "00125c6e5922b1d36e973e80bd3f7977debb1f35a6d2102f4b9bdb0261afff1c"
   }
  }
 },
 "nbformat": 4,
 "nbformat_minor": 2
}
