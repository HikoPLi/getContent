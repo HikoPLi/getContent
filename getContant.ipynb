{
 "cells": [
  {
   "cell_type": "code",
   "execution_count": 118,
   "metadata": {},
   "outputs": [],
   "source": [
    "import requests\n",
    "from bs4 import BeautifulSoup\n",
    "\n"
   ]
  },
  {
   "cell_type": "code",
   "execution_count": 119,
   "metadata": {},
   "outputs": [],
   "source": [
    "def exportContentToFile(data):\n",
    "\n",
    "    try:\n",
    "        with open(\"Content\" + \".txt\", \"a\") as outfile:\n",
    "            outfile.write(data + \"\\n\")\n",
    "\n",
    "    except:\n",
    "\n",
    "        return False"
   ]
  },
  {
   "cell_type": "code",
   "execution_count": 120,
   "metadata": {},
   "outputs": [],
   "source": [
    "def request(URL):\n",
    "    session_object = requests.Session()\n",
    "    page_obj = session_object.get(URL['BASEURL'])\n",
    "    soup = BeautifulSoup(page_obj.text, 'html5lib')\n",
    "    return soup"
   ]
  },
  {
   "cell_type": "code",
   "execution_count": 121,
   "metadata": {},
   "outputs": [],
   "source": [
    "def pageS(URL):\n",
    "    totalPage = request(URL['BASEURL']).findAll()\n",
    "    soup = bs(totalPage, 'lxml')\n",
    "    print(soup.select_one('<select class=\"z1s6m00 z1s6m01 z1s6m06 z1s6m07 z1s6m0a _1hbhsw6p _1hbhsw69i _1hbhsw65u _1hbhsw65 _16b9myk0 _3reozq0 _3reozq1 y44q7i0 y44q7i1 y44q7i21 y44q7ii y44q7i26 y44q7i18  _1hbhsw632\" id=\"pagination\" aria-label=\"Pagination dropdown\">:last-child').text)\n",
    "\n",
    "page = 115\n",
    "\n",
    "i = 0\n",
    "\n",
    "def content(URL):\n",
    "    table = request(URL['URL']).findAll('h1')\n",
    "\n",
    "    for row in table:\n",
    "        text = row.text\n",
    "        print(text)\n",
    "        exportContentToFile(text)\n",
    "        print(exportContentToFile(text))"
   ]
  },
  {
   "cell_type": "code",
   "execution_count": 122,
   "metadata": {},
   "outputs": [],
   "source": [
    "def URL(i):\n",
    "\n",
    "    URL = {\n",
    "        'BASEURL' : \"https://hk.jobsdb.com/hk/search-jobs/python/\", # -> website will fill \"1\" automatically\n",
    "        'URL' : \"https://hk.jobsdb.com/hk/search-jobs/python/\" + str(i)\n",
    "    }\n",
    "    return URL"
   ]
  },
  {
   "cell_type": "code",
   "execution_count": 123,
   "metadata": {},
   "outputs": [
    {
     "ename": "TypeError",
     "evalue": "string indices must be integers",
     "output_type": "error",
     "traceback": [
      "\u001b[0;31m---------------------------------------------------------------------------\u001b[0m",
      "\u001b[0;31mTypeError\u001b[0m                                 Traceback (most recent call last)",
      "Cell \u001b[0;32mIn[123], line 1\u001b[0m\n\u001b[0;32m----> 1\u001b[0m page \u001b[39m=\u001b[39m pageS(URL(\u001b[39m1\u001b[39;49m))\n\u001b[1;32m      3\u001b[0m i \u001b[39m=\u001b[39m \u001b[39m0\u001b[39m\n\u001b[1;32m      4\u001b[0m \u001b[39mwhile\u001b[39;00m i \u001b[39m<\u001b[39m page:\n",
      "Cell \u001b[0;32mIn[121], line 2\u001b[0m, in \u001b[0;36mpageS\u001b[0;34m(URL)\u001b[0m\n\u001b[1;32m      1\u001b[0m \u001b[39mdef\u001b[39;00m \u001b[39mpageS\u001b[39m(URL):\n\u001b[0;32m----> 2\u001b[0m     totalPage \u001b[39m=\u001b[39m request(URL[\u001b[39m'\u001b[39;49m\u001b[39mBASEURL\u001b[39;49m\u001b[39m'\u001b[39;49m])\u001b[39m.\u001b[39mfindAll()\n\u001b[1;32m      3\u001b[0m     soup \u001b[39m=\u001b[39m bs(totalPage, \u001b[39m'\u001b[39m\u001b[39mlxml\u001b[39m\u001b[39m'\u001b[39m)\n\u001b[1;32m      4\u001b[0m     \u001b[39mprint\u001b[39m(soup\u001b[39m.\u001b[39mselect_one(\u001b[39m'\u001b[39m\u001b[39m<select class=\u001b[39m\u001b[39m\"\u001b[39m\u001b[39mz1s6m00 z1s6m01 z1s6m06 z1s6m07 z1s6m0a _1hbhsw6p _1hbhsw69i _1hbhsw65u _1hbhsw65 _16b9myk0 _3reozq0 _3reozq1 y44q7i0 y44q7i1 y44q7i21 y44q7ii y44q7i26 y44q7i18  _1hbhsw632\u001b[39m\u001b[39m\"\u001b[39m\u001b[39m id=\u001b[39m\u001b[39m\"\u001b[39m\u001b[39mpagination\u001b[39m\u001b[39m\"\u001b[39m\u001b[39m aria-label=\u001b[39m\u001b[39m\"\u001b[39m\u001b[39mPagination dropdown\u001b[39m\u001b[39m\"\u001b[39m\u001b[39m>:last-child\u001b[39m\u001b[39m'\u001b[39m)\u001b[39m.\u001b[39mtext)\n",
      "Cell \u001b[0;32mIn[120], line 3\u001b[0m, in \u001b[0;36mrequest\u001b[0;34m(URL)\u001b[0m\n\u001b[1;32m      1\u001b[0m \u001b[39mdef\u001b[39;00m \u001b[39mrequest\u001b[39m(URL):\n\u001b[1;32m      2\u001b[0m     session_object \u001b[39m=\u001b[39m requests\u001b[39m.\u001b[39mSession()\n\u001b[0;32m----> 3\u001b[0m     page_obj \u001b[39m=\u001b[39m session_object\u001b[39m.\u001b[39mget(URL[\u001b[39m'\u001b[39;49m\u001b[39mBASEURL\u001b[39;49m\u001b[39m'\u001b[39;49m])\n\u001b[1;32m      4\u001b[0m     soup \u001b[39m=\u001b[39m BeautifulSoup(page_obj\u001b[39m.\u001b[39mtext, \u001b[39m'\u001b[39m\u001b[39mhtml5lib\u001b[39m\u001b[39m'\u001b[39m)\n\u001b[1;32m      5\u001b[0m     \u001b[39mreturn\u001b[39;00m soup\n",
      "\u001b[0;31mTypeError\u001b[0m: string indices must be integers"
     ]
    }
   ],
   "source": [
    "page = pageS(URL(1))\n",
    "\n",
    "i = 0\n",
    "while i < page:\n",
    "\n",
    "    URL(i)\n",
    "    content(URL)"
   ]
  }
 ],
 "metadata": {
  "kernelspec": {
   "display_name": "study_env",
   "language": "python",
   "name": "python3"
  },
  "language_info": {
   "codemirror_mode": {
    "name": "ipython",
    "version": 3
   },
   "file_extension": ".py",
   "mimetype": "text/x-python",
   "name": "python",
   "nbconvert_exporter": "python",
   "pygments_lexer": "ipython3",
   "version": "3.8.10"
  },
  "orig_nbformat": 4,
  "vscode": {
   "interpreter": {
    "hash": "00125c6e5922b1d36e973e80bd3f7977debb1f35a6d2102f4b9bdb0261afff1c"
   }
  }
 },
 "nbformat": 4,
 "nbformat_minor": 2
}
